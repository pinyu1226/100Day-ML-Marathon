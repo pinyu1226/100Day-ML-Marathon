{
 "cells": [
  {
   "cell_type": "markdown",
   "metadata": {},
   "source": [
    "# [教學目標]"
   ]
  },
  {
   "cell_type": "markdown",
   "metadata": {},
   "source": [
    "學習 sklearn 中，各種評估指標的使用與意義"
   ]
  },
  {
   "cell_type": "markdown",
   "metadata": {},
   "source": [
    "# [範例重點]"
   ]
  },
  {
   "cell_type": "markdown",
   "metadata": {},
   "source": [
    "注意觀察各指標的數值範圍，以及輸入函數中的資料格式"
   ]
  },
  {
   "cell_type": "code",
   "execution_count": 1,
   "metadata": {},
   "outputs": [],
   "source": [
    "from sklearn import metrics, datasets\n",
    "from sklearn.linear_model import LinearRegression\n",
    "from sklearn.model_selection import train_test_split\n",
    "\n",
    "import matplotlib.pyplot as plt\n",
    "from matplotlib.pylab import rcParams\n",
    "import numpy as np\n",
    "%matplotlib inline"
   ]
  },
  {
   "cell_type": "markdown",
   "metadata": {},
   "source": [
    "# 回歸問題"
   ]
  },
  {
   "cell_type": "markdown",
   "metadata": {},
   "source": [
    "常見的評估指標有\n",
    "\n",
    "<br>MAE\n",
    "<br>MSE\n",
    "<br>R-square\n",
    "<br>我們隨機生成(X, y)資料，然後使用線性回歸模型做預測，再使用 MAE, MSE, R-square 評估"
   ]
  },
  {
   "cell_type": "code",
   "execution_count": 4,
   "metadata": {},
   "outputs": [
    {
     "name": "stdout",
     "output_type": "stream",
     "text": [
      "MAE:  2.841797252565566\n",
      "MSE:  12.48868006739824\n",
      "R-square:  0.9916581036260311\n"
     ]
    }
   ],
   "source": [
    "X,y=datasets.make_regression(n_features=1,random_state=42,noise=4) # 生成資料\n",
    "model=LinearRegression()# 建立回歸模型\n",
    "model.fit(X,y)# 將資料放進模型訓練\n",
    "prediction=model.predict(X)# 進行預測\n",
    "mae=metrics.mean_absolute_error(prediction,y)# 使用 MAE 評估\n",
    "mse=metrics.mean_squared_error(prediction,y)# 使用 MSE 評估\n",
    "r2=metrics.r2_score(prediction,y)# 使用 r-square 評估\n",
    "print(\"MAE: \", mae)\n",
    "print(\"MSE: \", mse)\n",
    "print(\"R-square: \", r2)"
   ]
  },
  {
   "cell_type": "markdown",
   "metadata": {},
   "source": [
    "# 分類問題"
   ]
  },
  {
   "cell_type": "markdown",
   "metadata": {},
   "source": [
    "常見的評估指標有\n",
    "\n",
    "<br>AUC\n",
    "<br>F1-Score (Precision, Recall)"
   ]
  },
  {
   "cell_type": "code",
   "execution_count": 5,
   "metadata": {},
   "outputs": [],
   "source": [
    "cancer=datasets.load_breast_cancer() # 我們使用 sklearn 內含的乳癌資料集\n",
    "X_train, X_test, y_train, y_test = train_test_split(cancer.data, cancer.target, test_size=50, random_state=0)"
   ]
  },
  {
   "cell_type": "code",
   "execution_count": 8,
   "metadata": {},
   "outputs": [
    {
     "name": "stdout",
     "output_type": "stream",
     "text": [
      "[0 1 1 1 1 1 1 1 1 1 1 1 1 1 1 0 1 0 0 0 0 0 1 1 0 1 1 0 1 0 1 0 1 0 1 0 1\n",
      " 0 1 0 0 1 0 1 1 0 1 1 1 0]\n"
     ]
    }
   ],
   "source": [
    "print(y_test) # 測試集中的 label"
   ]
  },
  {
   "cell_type": "code",
   "execution_count": 13,
   "metadata": {},
   "outputs": [],
   "source": [
    "y_pred = np.random.random((50,)) # 我們先隨機生成 50 筆預測值，範圍都在 0~1 之間，代表機率值"
   ]
  },
  {
   "cell_type": "code",
   "execution_count": 14,
   "metadata": {},
   "outputs": [
    {
     "name": "stdout",
     "output_type": "stream",
     "text": [
      "[0.71196202 0.37423014 0.49360771 0.9618104  0.42666671 0.26117798\n",
      " 0.49167955 0.17322021 0.59541293 0.22645819 0.99312908 0.65598053\n",
      " 0.01067452 0.70597434 0.84402162 0.40707593 0.93495914 0.18816882\n",
      " 0.8482179  0.03356861 0.54634096 0.99724266 0.99469794 0.76836913\n",
      " 0.93288943 0.5696769  0.76242747 0.49346006 0.46258836 0.76212454\n",
      " 0.23384581 0.41629273 0.08562438 0.05699503 0.00726008 0.30075174\n",
      " 0.04908379 0.68652744 0.45220794 0.84424425 0.25495857 0.01846984\n",
      " 0.04540762 0.50978572 0.32507475 0.19600363 0.63571752 0.64652199\n",
      " 0.81556163 0.41102735]\n"
     ]
    }
   ],
   "source": [
    "print(y_pred)"
   ]
  },
  {
   "cell_type": "markdown",
   "metadata": {},
   "source": [
    "# AUC"
   ]
  },
  {
   "cell_type": "code",
   "execution_count": 15,
   "metadata": {},
   "outputs": [
    {
     "name": "stdout",
     "output_type": "stream",
     "text": [
      "AUC:  0.5178268251273345\n"
     ]
    }
   ],
   "source": [
    "auc=metrics.roc_auc_score(y_test,y_pred)# 使用 roc_auc_score 來評估。 **這邊特別注意 y_pred 必須要放機率值進去!**\n",
    "print(\"AUC: \", auc) # 得到結果約 0.5，與亂猜的結果相近，因為我們的預測值是用隨機生成的\n"
   ]
  },
  {
   "cell_type": "markdown",
   "metadata": {},
   "source": [
    "# F1-Score"
   ]
  },
  {
   "cell_type": "code",
   "execution_count": 16,
   "metadata": {},
   "outputs": [
    {
     "name": "stdout",
     "output_type": "stream",
     "text": [
      "F1-Score:  0.5555555555555556\n",
      "Precision:  0.6521739130434783\n",
      "Recall:  0.4838709677419355\n"
     ]
    }
   ],
   "source": [
    "threshold=0.5\n",
    "y_pred_binarized=np.where(y_pred>threshold,1,0)# 使用 np.where 函數, 將 y_pred > 0.5 的值變為 1，小於 0.5 的為 0\n",
    "f1=metrics.f1_score(y_test,y_pred_binarized) # 使用 F1-Score 評估\n",
    "precision=metrics.precision_score(y_test,y_pred_binarized)# 使用 Precision 評估\n",
    "recall=metrics.recall_score(y_test,y_pred_binarized)# 使用 recall 評估\n",
    "print(\"F1-Score: \", f1) \n",
    "print(\"Precision: \", precision)\n",
    "print(\"Recall: \", recall)\n"
   ]
  },
  {
   "cell_type": "markdown",
   "metadata": {},
   "source": [
    "# 練習時間"
   ]
  },
  {
   "cell_type": "markdown",
   "metadata": {},
   "source": [
    "# F1-Score 其實是 F-Score 中的 β 值為 1 的特例，代表 Precision 與 Recall 的權重相同"
   ]
  },
  {
   "cell_type": "markdown",
   "metadata": {},
   "source": [
    "試著寫出 F2-Score 的計算函數"
   ]
  },
  {
   "cell_type": "markdown",
   "metadata": {},
   "source": [
    "HINT: 可使用 slearn.metrics 中的 precision, recall 函數幫忙"
   ]
  },
  {
   "cell_type": "code",
   "execution_count": 21,
   "metadata": {},
   "outputs": [],
   "source": [
    "import numpy as np\n",
    "y_pred = np.random.randint(2, size=100)  # 生成 100 個隨機的 0 / 1 prediction\n",
    "y_true = np.random.randint(2, size=100)  # 生成 100 個隨機的 0 / 1 ground truth"
   ]
  },
  {
   "cell_type": "code",
   "execution_count": 22,
   "metadata": {},
   "outputs": [
    {
     "data": {
      "text/plain": [
       "array([0, 0, 1, 0, 1, 0, 0, 1, 1, 1, 1, 0, 0, 1, 0, 0, 0, 1, 1, 0, 1, 1,\n",
       "       1, 0, 1, 1, 1, 1, 0, 0, 1, 1, 1, 0, 0, 1, 1, 0, 0, 1, 1, 0, 0, 0,\n",
       "       0, 1, 1, 0, 1, 0, 1, 0, 1, 1, 0, 0, 1, 0, 0, 0, 0, 1, 1, 1, 1, 1,\n",
       "       0, 0, 0, 0, 0, 0, 1, 0, 0, 1, 1, 0, 0, 1, 0, 0, 0, 0, 1, 0, 1, 1,\n",
       "       0, 1, 1, 1, 1, 1, 0, 1, 1, 0, 1, 1])"
      ]
     },
     "execution_count": 22,
     "metadata": {},
     "output_type": "execute_result"
    }
   ],
   "source": [
    "\n",
    "y_pred"
   ]
  },
  {
   "cell_type": "code",
   "execution_count": 25,
   "metadata": {},
   "outputs": [
    {
     "name": "stdout",
     "output_type": "stream",
     "text": [
      "F2-Score:  0.5597014925373134\n"
     ]
    }
   ],
   "source": [
    "prediction=metrics.precision_score(y_true,y_pred)\n",
    "recall=metrics.recall_score(y_true,y_pred)\n",
    "F2=2*(precision*recall)/(precision+recall)\n",
    "print(\"F2-Score: \", F2)"
   ]
  },
  {
   "cell_type": "code",
   "execution_count": null,
   "metadata": {},
   "outputs": [],
   "source": []
  }
 ],
 "metadata": {
  "kernelspec": {
   "display_name": "Python 3",
   "language": "python",
   "name": "python3"
  },
  "language_info": {
   "codemirror_mode": {
    "name": "ipython",
    "version": 3
   },
   "file_extension": ".py",
   "mimetype": "text/x-python",
   "name": "python",
   "nbconvert_exporter": "python",
   "pygments_lexer": "ipython3",
   "version": "3.7.3"
  }
 },
 "nbformat": 4,
 "nbformat_minor": 2
}
