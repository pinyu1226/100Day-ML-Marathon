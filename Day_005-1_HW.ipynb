{
 "cells": [
  {
   "cell_type": "code",
   "execution_count": 20,
   "metadata": {},
   "outputs": [
    {
     "name": "stdout",
     "output_type": "stream",
     "text": [
      "         國家        人口\n",
      "0    Taiwan    300000\n",
      "1        US   5000000\n",
      "2  Thailand  70000000\n"
     ]
    }
   ],
   "source": [
    "import pandas as pd\n",
    "import random\n",
    "label=['國家','人口']\n",
    "country=['Taiwan','US','Thailand']\n",
    "people=[300000,5000000,70000000]\n",
    "col=[country,people]\n",
    "zipped=list(zip(label,col))\n",
    "df=pd.DataFrame(dict(zipped))\n",
    "print(df)"
   ]
  },
  {
   "cell_type": "code",
   "execution_count": 24,
   "metadata": {},
   "outputs": [
    {
     "name": "stdout",
     "output_type": "stream",
     "text": [
      "Thailand\n"
     ]
    }
   ],
   "source": [
    "people_value=pd.Series(people,index=country)\n",
    "max_country=people_value.idxmax()\n",
    "print(max_country)"
   ]
  },
  {
   "cell_type": "code",
   "execution_count": null,
   "metadata": {},
   "outputs": [],
   "source": []
  }
 ],
 "metadata": {
  "kernelspec": {
   "display_name": "Python 3",
   "language": "python",
   "name": "python3"
  },
  "language_info": {
   "codemirror_mode": {
    "name": "ipython",
    "version": 3
   },
   "file_extension": ".py",
   "mimetype": "text/x-python",
   "name": "python",
   "nbconvert_exporter": "python",
   "pygments_lexer": "ipython3",
   "version": "3.7.0"
  }
 },
 "nbformat": 4,
 "nbformat_minor": 2
}
