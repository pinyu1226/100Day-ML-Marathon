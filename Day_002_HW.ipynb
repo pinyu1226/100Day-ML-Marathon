{
 "cells": [
  {
   "cell_type": "markdown",
   "metadata": {},
   "source": [
    "    餐飲業,服務業,透過大數據及人臉辨識,蒐集每個人常去的餐廳及喜好,\n",
    "    幫助業者不用詢問就能知道顧客心理,有些人不吃辣或不加蔥等等,或是\n",
    "    或是透過民眾近期搜尋結果,在正餐時間手機自動提供附近類似餐飲選擇\n",
    "    幫助民眾解決不知道吃什麼等問題.或是在飯店或餐廳中加裝機器人替民\n",
    "    眾送餐等服務 ex:許多地區已有此服務但仍在測試階段!\n",
    "    重複性高的勞動,例如廚師瑣碎的切菜或備菜等服務,若能在顧客下單後\n",
    "    能自動分類並幫忙備菜等可大大節省人力和避免上菜速度慢.做錯等問題"
   ]
  },
  {
   "cell_type": "code",
   "execution_count": null,
   "metadata": {},
   "outputs": [],
   "source": []
  }
 ],
 "metadata": {
  "kernelspec": {
   "display_name": "Python 3",
   "language": "python",
   "name": "python3"
  },
  "language_info": {
   "codemirror_mode": {
    "name": "ipython",
    "version": 3
   },
   "file_extension": ".py",
   "mimetype": "text/x-python",
   "name": "python",
   "nbconvert_exporter": "python",
   "pygments_lexer": "ipython3",
   "version": "3.7.0"
  }
 },
 "nbformat": 4,
 "nbformat_minor": 2
}
