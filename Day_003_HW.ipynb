{
 "cells": [
  {
   "cell_type": "markdown",
   "metadata": {},
   "source": [
    "https://www.jiqizhixin.com/articles/2019-08-29-9\n",
    "作業 1：目標\n",
    "   不用透過反向傳播法(BP)就能訓練深度學習模型,ADMM的效果可以超過梯度下降\n",
    "   \n",
    "作業 2：方法\n",
    "   傳統反向傳播法雖然很有用但容易產生速度較慢.暫存較高存在且存在梯度消失等\n",
    "   問題,根據鍊式法則隨著層數增加,梯度會隨著信號降低直到消失。ADMM的原理是\n",
    "   將神經網路按照不同層分成n個問題,針對每個問題求解即可解決梯度下降的問題,\n",
    "   但目前ADMM還有需要克服的問題,例如:收斂慢,耗時在求逆矩陣,缺乏收斂保證\n",
    "   2019針對ADMM的改進版本dlADMM在數據集上達到目前最佳效果,而alADMM相較\n",
    "   ADMM的優勢在於1.加快收斂 2.加快運行速度 3.有收斂保證\n",
    "\n",
    "作業 3：資料來源 \n",
    "   [1]. Taylor, Gavin, et al. \"Training neural networks without gradients: A scalable admm approach\". International conference on machine learning. 2016.\n",
    "\n",
    "   [2]. Boyd, Stephen, et al. \"Distributed optimization and statistical learning via the alternating direction method of multipliers.\" Foundations and Trends® in Machine learning 3.1 (2011): 1-122."
   ]
  }
 ],
 "metadata": {
  "kernelspec": {
   "display_name": "Python 3",
   "language": "python",
   "name": "python3"
  },
  "language_info": {
   "codemirror_mode": {
    "name": "ipython",
    "version": 3
   },
   "file_extension": ".py",
   "mimetype": "text/x-python",
   "name": "python",
   "nbconvert_exporter": "python",
   "pygments_lexer": "ipython3",
   "version": "3.7.0"
  }
 },
 "nbformat": 4,
 "nbformat_minor": 2
}
